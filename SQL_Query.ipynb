{
 "cells": [
  {
   "cell_type": "markdown",
   "id": "0e7bc8c0-4ec5-4c10-8cc5-e2ee704ebd43",
   "metadata": {},
   "source": [
    "# PREGUNTAS A SQL SERVER DESDE PYTHON "
   ]
  },
  {
   "cell_type": "code",
   "execution_count": 44,
   "id": "6cbd3197-08b0-4b19-ac1d-1efe6bffcd2e",
   "metadata": {},
   "outputs": [],
   "source": [
    "import os\n",
    "from sqlalchemy import create_engine\n",
    "import a_env_vars"
   ]
  },
  {
   "cell_type": "code",
   "execution_count": 45,
   "id": "7fa08971-777e-44a0-8338-33408999a96b",
   "metadata": {},
   "outputs": [],
   "source": [
    "# Configura la conexión con SQL Server\n",
    "server_name = 'LAPTOP-23E0FHPR\\\\SQLEXPRESS'\n",
    "database_name = 'Contoso'\n",
    "\n",
    "connection_string = (\n",
    "    f\"mssql+pyodbc://{server_name}/{database_name}\"\n",
    "    \"?trusted_connection=yes&driver=ODBC+Driver+17+for+SQL+Server\")\n",
    "\n",
    "# Crea el engine usando SQLAlchemy\n",
    "engine = create_engine(connection_string)\n",
    "\n",
    "# Crear una instancia de SQLDatabase\n",
    "from langchain.sql_database import SQLDatabase\n",
    "sql_database = SQLDatabase(engine)\n",
    "\n",
    "# Importar las APIs\n",
    "os.environ[\"OPENAI_API_KEY\"] = a_env_vars.OPENAI_API_KEY"
   ]
  },
  {
   "cell_type": "code",
   "execution_count": 46,
   "id": "d271bb75-fa22-4d62-9c0c-7bff1129036e",
   "metadata": {},
   "outputs": [
    {
     "name": "stderr",
     "output_type": "stream",
     "text": [
      "C:\\Users\\falabella\\anaconda3\\envs\\SQL_Talk\\lib\\site-packages\\langchain_experimental\\sql\\base.py:77: UserWarning: Directly instantiating an SQLDatabaseChain with an llm is deprecated. Please instantiate with llm_chain argument or using the from_llm class method.\n",
      "  warnings.warn(\n"
     ]
    }
   ],
   "source": [
    "# Crear el LLM \n",
    "from langchain.chat_models import ChatOpenAI\n",
    "llm = ChatOpenAI(model_name='gpt-3.5-turbo', temperature=0)\n",
    "\n",
    "# Importar SQLDatabaseChain desde el módulo experimental\n",
    "from langchain_experimental.sql import SQLDatabaseChain\n",
    "\n",
    "# Crear la cadena de base de datos SQL\n",
    "db_chain = SQLDatabaseChain(llm=llm, database=sql_database, verbose=False)"
   ]
  },
  {
   "cell_type": "code",
   "execution_count": 47,
   "id": "c7a62ddb-8243-40a2-994e-46f9236e2d4e",
   "metadata": {},
   "outputs": [],
   "source": [
    "# Formato persozalizado de respuesta\n",
    "formato = \"\"\" \n",
    "Dada una pregunta del usuario:\n",
    "1. Crea una consulta de SQL Server\n",
    "2. Revisa los resultados\n",
    "3. Devuelve el dato\n",
    "4. Si tienes que hacer alguna aclaracion o devolver cualquier texto que sea #{question}\n",
    "\"\"\"\n",
    "\n",
    "# Definir la función de consulta\n",
    "def consulta(input_usuario):\n",
    "    consulta_formateada = formato.format(question=input_usuario)\n",
    "    resultado = db_chain.run(consulta_formateada)\n",
    "    return resultado"
   ]
  },
  {
   "cell_type": "code",
   "execution_count": 48,
   "id": "ad3a88e9-c573-4722-b00f-5f653ae980b8",
   "metadata": {
    "scrolled": true
   },
   "outputs": [
    {
     "name": "stdout",
     "output_type": "stream",
     "text": [
      "El total de ventas en dbo.Sales para el producto número 436 fue de $18,736,544.\n"
     ]
    }
   ],
   "source": [
    "# Ejemplo de uso\n",
    "pregunta = \"¿cual fue el total de ventas en dbo.Sales para el producto numero 436?\"\n",
    "respuesta = consulta(pregunta)\n",
    "print(respuesta)"
   ]
  }
 ],
 "metadata": {
  "kernelspec": {
   "display_name": "Python 3 (ipykernel)",
   "language": "python",
   "name": "python3"
  },
  "language_info": {
   "codemirror_mode": {
    "name": "ipython",
    "version": 3
   },
   "file_extension": ".py",
   "mimetype": "text/x-python",
   "name": "python",
   "nbconvert_exporter": "python",
   "pygments_lexer": "ipython3",
   "version": "3.10.14"
  }
 },
 "nbformat": 4,
 "nbformat_minor": 5
}
